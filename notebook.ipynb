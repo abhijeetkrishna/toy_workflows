{
 "cells": [
  {
   "cell_type": "code",
   "execution_count": 8,
   "metadata": {},
   "outputs": [
    {
     "name": "stdout",
     "output_type": "stream",
     "text": [
      "The autoreload extension is already loaded. To reload it, use:\n",
      "  %reload_ext autoreload\n",
      "Adding one to your number\n",
      "2\n",
      "Concatenating two strings\n",
      "HelloWorld\n"
     ]
    }
   ],
   "source": [
    "import example_package_abhijeet095.numbers as nb\n",
    "import example_package_abhijeet095.string as st\n",
    "#reload(ex)\n",
    "%load_ext autoreload\n",
    "%autoreload 2\n",
    "\n",
    "print(nb.add_one(1))\n",
    "print(st.concat_strings(\"Hello\", \"World\"))"
   ]
  },
  {
   "attachments": {},
   "cell_type": "markdown",
   "metadata": {},
   "source": [
    "Another way to call functions"
   ]
  },
  {
   "cell_type": "code",
   "execution_count": 9,
   "metadata": {},
   "outputs": [
    {
     "name": "stdout",
     "output_type": "stream",
     "text": [
      "Adding one to your number\n",
      "2\n",
      "Concatenating two strings\n",
      "HelloWorld\n"
     ]
    }
   ],
   "source": [
    "import example_package_abhijeet095\n",
    "\n",
    "print(example_package_abhijeet095.numbers.add_one(1))\n",
    "print(example_package_abhijeet095.string.concat_strings(\"Hello\", \"World\"))"
   ]
  },
  {
   "attachments": {},
   "cell_type": "markdown",
   "metadata": {},
   "source": [
    "Another way to call functions"
   ]
  },
  {
   "cell_type": "code",
   "execution_count": 10,
   "metadata": {},
   "outputs": [
    {
     "name": "stdout",
     "output_type": "stream",
     "text": [
      "Adding one to your number\n",
      "2\n",
      "Concatenating two strings\n",
      "HelloWorld\n"
     ]
    }
   ],
   "source": [
    "from example_package_abhijeet095.numbers import *\n",
    "from example_package_abhijeet095.string import *\n",
    "\n",
    "print(add_one(1))\n",
    "print(concat_strings(\"Hello\", \"World\"))"
   ]
  },
  {
   "attachments": {},
   "cell_type": "markdown",
   "metadata": {},
   "source": [
    "Make some changes to a function like add a print statement to the concat_strings function. How can it be reflected in the notebook as well? You need to add the `load_ext autoreload` in your notebook."
   ]
  },
  {
   "cell_type": "code",
   "execution_count": 11,
   "metadata": {},
   "outputs": [
    {
     "name": "stdout",
     "output_type": "stream",
     "text": [
      "Concatenating two strings\n",
      "HelloWorld\n"
     ]
    }
   ],
   "source": [
    "from example_package_abhijeet095.string import *\n",
    "print(concat_strings(\"Hello\", \"World\"))"
   ]
  },
  {
   "cell_type": "code",
   "execution_count": 12,
   "metadata": {},
   "outputs": [
    {
     "name": "stdout",
     "output_type": "stream",
     "text": [
      "Adding one to your number\n",
      "2\n"
     ]
    }
   ],
   "source": [
    "from example_package_abhijeet095 import *\n",
    "print(numbers.add_one(1))"
   ]
  },
  {
   "cell_type": "code",
   "execution_count": null,
   "metadata": {},
   "outputs": [],
   "source": []
  }
 ],
 "metadata": {
  "kernelspec": {
   "display_name": "Python 3",
   "language": "python",
   "name": "python3"
  },
  "language_info": {
   "codemirror_mode": {
    "name": "ipython",
    "version": 3
   },
   "file_extension": ".py",
   "mimetype": "text/x-python",
   "name": "python",
   "nbconvert_exporter": "python",
   "pygments_lexer": "ipython3",
   "version": "3.11.3"
  },
  "orig_nbformat": 4
 },
 "nbformat": 4,
 "nbformat_minor": 2
}
